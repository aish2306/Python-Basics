{
  "nbformat": 4,
  "nbformat_minor": 0,
  "metadata": {
    "colab": {
      "name": "VectorBasics.ipynb",
      "version": "0.3.2",
      "provenance": [],
      "include_colab_link": true
    },
    "kernelspec": {
      "name": "python3",
      "display_name": "Python 3"
    }
  },
  "cells": [
    {
      "cell_type": "markdown",
      "metadata": {
        "id": "view-in-github",
        "colab_type": "text"
      },
      "source": [
        "<a href=\"https://colab.research.google.com/github/aish2306/Python-Basics/blob/master/VectorBasics.ipynb\" target=\"_parent\"><img src=\"https://colab.research.google.com/assets/colab-badge.svg\" alt=\"Open In Colab\"/></a>"
      ]
    },
    {
      "cell_type": "code",
      "metadata": {
        "id": "l3uSdd4_xol3",
        "colab_type": "code",
        "colab": {}
      },
      "source": [
        "import numpy as np\n",
        "import matplotlib.pyplot as plt"
      ],
      "execution_count": 0,
      "outputs": []
    },
    {
      "cell_type": "markdown",
      "metadata": {
        "id": "FmLVRFyfgotD",
        "colab_type": "text"
      },
      "source": [
        "# Plotting of Vectors"
      ]
    },
    {
      "cell_type": "code",
      "metadata": {
        "id": "YagFb4vNyFBy",
        "colab_type": "code",
        "outputId": "3a4276d0-044a-4465-c085-2f7246bb4f7d",
        "colab": {
          "base_uri": "https://localhost:8080/",
          "height": 269
        }
      },
      "source": [
        "plt.quiver(0,0,3,4)\n",
        "plt.show()"
      ],
      "execution_count": 0,
      "outputs": [
        {
          "output_type": "display_data",
          "data": {
            "image/png": "[encoded data removed]",
            "text/plain": [
              "<Figure size 432x288 with 1 Axes>"
            ]
          },
          "metadata": {
            "tags": []
          }
        }
      ]
    },
    {
      "cell_type": "code",
      "metadata": {
        "id": "afpQJPM_yHs0",
        "colab_type": "code",
        "outputId": "dc3b4ca8-3a58-4f7e-c854-0d6d8aceec97",
        "colab": {
          "base_uri": "https://localhost:8080/",
          "height": 269
        }
      },
      "source": [
        "plt.quiver(0,0,5,6, scale_units='xy', angles='xy', scale=1)\n",
        "plt.show()"
      ],
      "execution_count": 0,
      "outputs": [
        {
          "output_type": "display_data",
          "data": {
            "image/png": "[encoded data removed]",
            "text/plain": [
              "<Figure size 432x288 with 1 Axes>"
            ]
          },
          "metadata": {
            "tags": []
          }
        }
      ]
    },
    {
      "cell_type": "code",
      "metadata": {
        "id": "Kxc5-cQPyQrz",
        "colab_type": "code",
        "outputId": "5499fc16-62ae-4bc2-de80-f2d1b09765d9",
        "colab": {
          "base_uri": "https://localhost:8080/",
          "height": 269
        }
      },
      "source": [
        "plt.quiver(0,0,3,4, scale_units='xy', angles='xy', scale=1)\n",
        "plt.xlim(-100,100)\n",
        "plt.ylim(-100,100)\n",
        "plt.show()"
      ],
      "execution_count": 0,
      "outputs": [
        {
          "output_type": "display_data",
          "data": {
            "image/png": "[encoded data removed]",
            "text/plain": [
              "<Figure size 432x288 with 1 Axes>"
            ]
          },
          "metadata": {
            "tags": []
          }
        }
      ]
    },
    {
      "cell_type": "code",
      "metadata": {
        "id": "nbxKdaoYyWcQ",
        "colab_type": "code",
        "outputId": "122f5fbf-9569-42c5-e4ad-b095135dc14d",
        "colab": {
          "base_uri": "https://localhost:8080/",
          "height": 269
        }
      },
      "source": [
        "plt.quiver(0,0,3,4, scale_units='xy', angles='xy', scale=1, color='r')\n",
        "plt.quiver(0,0,-3,4, scale_units='xy', angles='xy', scale=1, color='g')\n",
        "plt.xlim(-50,50)\n",
        "plt.ylim(-50,50)\n",
        "plt.show()"
      ],
      "execution_count": 0,
      "outputs": [
        {
          "output_type": "display_data",
          "data": {
            "image/png": "[encoded data removed]",
            "text/plain": [
              "<Figure size 432x288 with 1 Axes>"
            ]
          },
          "metadata": {
            "tags": []
          }
        }
      ]
    },
    {
      "cell_type": "code",
      "metadata": {
        "id": "Rml4ZfHFycbS",
        "colab_type": "code",
        "colab": {}
      },
      "source": [
        "def plot_v(vecs):\n",
        "  colors = ['g', 'b', 'r', 'y']\n",
        "  i = 0\n",
        "  for vec in vecs:\n",
        "    plt.quiver(vec[0], vec[1], vec[2], vec[3], scale_units='xy', angles='xy', scale=1, color=colors[i%len(colors)])\n",
        "    i += 1\n",
        "  plt.xlim(-10,10)\n",
        "  plt.ylim(-10,10)\n",
        "  plt.show()"
      ],
      "execution_count": 0,
      "outputs": []
    },
    {
      "cell_type": "code",
      "metadata": {
        "id": "MfxociY3y9oX",
        "colab_type": "code",
        "outputId": "473ee53e-c0db-489c-a7ef-9a3e807d881f",
        "colab": {
          "base_uri": "https://localhost:8080/",
          "height": 269
        }
      },
      "source": [
        "plot_v([(0,0,3,5), (0,0,-3,6), (0,0,-3,-3), (0,0,5,-1)])"
      ],
      "execution_count": 0,
      "outputs": [
        {
          "output_type": "display_data",
          "data": {
            "image/png": "[encoded data removed]",
            "text/plain": [
              "<Figure size 432x288 with 1 Axes>"
            ]
          },
          "metadata": {
            "tags": []
          }
        }
      ]
    },
    {
      "cell_type": "markdown",
      "metadata": {
        "id": "4i-gVlvXgtSk",
        "colab_type": "text"
      },
      "source": [
        "# Addition and Subtraction of Vectors"
      ]
    },
    {
      "cell_type": "code",
      "metadata": {
        "id": "QHcO_SsNbSij",
        "colab_type": "code",
        "colab": {}
      },
      "source": [
        "v = [np.asarray([0,0,3,4]), np.asarray([0,0,-3,4]), np.asarray([0,0,-3,-2]), np.asarray([0,0,4,-1])]"
      ],
      "execution_count": 0,
      "outputs": []
    },
    {
      "cell_type": "code",
      "metadata": {
        "id": "SNa04Tg9bUIr",
        "colab_type": "code",
        "outputId": "7a6ac085-bab8-4f0f-acd3-7be06eb4595b",
        "colab": {
          "base_uri": "https://localhost:8080/",
          "height": 269
        }
      },
      "source": [
        "plot_v([v[0], v[3]])"
      ],
      "execution_count": 0,
      "outputs": [
        {
          "output_type": "display_data",
          "data": {
            "image/png": "[encoded data removed]",
            "text/plain": [
              "<Figure size 432x288 with 1 Axes>"
            ]
          },
          "metadata": {
            "tags": []
          }
        }
      ]
    },
    {
      "cell_type": "code",
      "metadata": {
        "id": "GYxtXWfJbYhC",
        "colab_type": "code",
        "outputId": "e420bf9b-0380-4e92-db16-868ba35ca1cc",
        "colab": {
          "base_uri": "https://localhost:8080/",
          "height": 34
        }
      },
      "source": [
        "v[0] + v[2]"
      ],
      "execution_count": 0,
      "outputs": [
        {
          "output_type": "execute_result",
          "data": {
            "text/plain": [
              "array([0, 0, 0, 2])"
            ]
          },
          "metadata": {
            "tags": []
          },
          "execution_count": 24
        }
      ]
    },
    {
      "cell_type": "code",
      "metadata": {
        "id": "B8BsGa8Kbdad",
        "colab_type": "code",
        "outputId": "ced520cf-f0a7-43d9-ae4e-d03ae99e3399",
        "colab": {
          "base_uri": "https://localhost:8080/",
          "height": 269
        }
      },
      "source": [
        "plot_v([v[0], v[3], v[0] + v[3]])"
      ],
      "execution_count": 0,
      "outputs": [
        {
          "output_type": "display_data",
          "data": {
            "image/png": "[encoded data removed]",
            "text/plain": [
              "<Figure size 432x288 with 1 Axes>"
            ]
          },
          "metadata": {
            "tags": []
          }
        }
      ]
    },
    {
      "cell_type": "code",
      "metadata": {
        "id": "neA4RdSacAnz",
        "colab_type": "code",
        "outputId": "bed85352-b886-4041-b2af-134c2560b3e0",
        "colab": {
          "base_uri": "https://localhost:8080/",
          "height": 269
        }
      },
      "source": [
        "plot_v([v[3], v[3], v[3] + v[3]])"
      ],
      "execution_count": 0,
      "outputs": [
        {
          "output_type": "display_data",
          "data": {
            "image/png": "[encoded data removed]",
            "text/plain": [
              "<Figure size 432x288 with 1 Axes>"
            ]
          },
          "metadata": {
            "tags": []
          }
        }
      ]
    },
    {
      "cell_type": "code",
      "metadata": {
        "id": "C1OO0syAcP1B",
        "colab_type": "code",
        "outputId": "dd2f6eff-c6d7-4814-ae78-4e33e6ccc484",
        "colab": {
          "base_uri": "https://localhost:8080/",
          "height": 269
        }
      },
      "source": [
        "plot_v([v[0], v[3], v[0] - v[3]])"
      ],
      "execution_count": 0,
      "outputs": [
        {
          "output_type": "display_data",
          "data": {
            "image/png": "[encoded data removed]",
            "text/plain": [
              "<Figure size 432x288 with 1 Axes>"
            ]
          },
          "metadata": {
            "tags": []
          }
        }
      ]
    },
    {
      "cell_type": "code",
      "metadata": {
        "id": "UcHCzrfocnY6",
        "colab_type": "code",
        "outputId": "aa72b0f5-c32c-48d8-f7da-c1546d856514",
        "colab": {
          "base_uri": "https://localhost:8080/",
          "height": 269
        }
      },
      "source": [
        "plot_v([-v[0], v[3], - v[0] + (v[3])])"
      ],
      "execution_count": 0,
      "outputs": [
        {
          "output_type": "display_data",
          "data": {
            "image/png": "[encoded data removed]",
            "text/plain": [
              "<Figure size 432x288 with 1 Axes>"
            ]
          },
          "metadata": {
            "tags": []
          }
        }
      ]
    },
    {
      "cell_type": "markdown",
      "metadata": {
        "id": "CNZLMjPjmsG2",
        "colab_type": "text"
      },
      "source": [
        "# Dot Product of Vectors"
      ]
    },
    {
      "cell_type": "code",
      "metadata": {
        "id": "iJDjoS3Pmt5c",
        "colab_type": "code",
        "colab": {}
      },
      "source": [
        "vs = [np.asarray([0,0,5,4]), np.asarray([0,0,-3,4]), np.asarray([0,0,-3,-2]), np.asarray([0,0,4,-1])]"
      ],
      "execution_count": 0,
      "outputs": []
    },
    {
      "cell_type": "code",
      "metadata": {
        "id": "fe3LHr2Yna0y",
        "colab_type": "code",
        "outputId": "1cabb1c3-89bd-4967-e909-aee4633e22ed",
        "colab": {
          "base_uri": "https://localhost:8080/",
          "height": 269
        }
      },
      "source": [
        "plot_v(vs)"
      ],
      "execution_count": 0,
      "outputs": [
        {
          "output_type": "display_data",
          "data": {
            "image/png": "[encoded data removed]",
            "text/plain": [
              "<Figure size 432x288 with 1 Axes>"
            ]
          },
          "metadata": {
            "tags": []
          }
        }
      ]
    },
    {
      "cell_type": "code",
      "metadata": {
        "id": "qmj7K_qknf1O",
        "colab_type": "code",
        "colab": {}
      },
      "source": [
        "a = np.asarray([5, 4])\n",
        "b = np.asarray([-3, -2])"
      ],
      "execution_count": 0,
      "outputs": []
    },
    {
      "cell_type": "markdown",
      "metadata": {
        "id": "fSzdT4w9nsU3",
        "colab_type": "text"
      },
      "source": [
        "$\\vec{a}\\cdot\\vec{b} = |\\vec{a}| |\\vec{b}| \\cos(\\theta) = a_x b_x + a_y b_y$   "
      ]
    },
    {
      "cell_type": "code",
      "metadata": {
        "id": "qaR9QWrJnq5o",
        "colab_type": "code",
        "colab": {}
      },
      "source": [
        "a_dot_b = np.dot(a, b)"
      ],
      "execution_count": 0,
      "outputs": []
    },
    {
      "cell_type": "code",
      "metadata": {
        "id": "43S1gDZFoAzh",
        "colab_type": "code",
        "outputId": "ae124a17-c7f1-4862-b20c-1cb5cb26edee",
        "colab": {
          "base_uri": "https://localhost:8080/",
          "height": 34
        }
      },
      "source": [
        "print(a_dot_b)"
      ],
      "execution_count": 0,
      "outputs": [
        {
          "output_type": "stream",
          "text": [
            "-23\n"
          ],
          "name": "stdout"
        }
      ]
    },
    {
      "cell_type": "markdown",
      "metadata": {
        "id": "Nzy28ClCoI6R",
        "colab_type": "text"
      },
      "source": [
        "$a_b = |\\vec{a}| \\cos(\\theta) = |\\vec{a}|\\frac{\\vec{a}\\cdot\\vec{b}}{|\\vec{a}||\\vec{b}|} = \\frac{\\vec{a}\\cdot\\vec{b}}{|\\vec{b}|}$"
      ]
    },
    {
      "cell_type": "code",
      "metadata": {
        "id": "0DlFLlgIoB3k",
        "colab_type": "code",
        "colab": {}
      },
      "source": [
        "a_b = np.dot(a, b)/np.linalg.norm(b)"
      ],
      "execution_count": 0,
      "outputs": []
    },
    {
      "cell_type": "code",
      "metadata": {
        "id": "P6knn3F3ovBR",
        "colab_type": "code",
        "outputId": "63bf6207-b5d4-4d31-9c5a-69902f246c83",
        "colab": {
          "base_uri": "https://localhost:8080/",
          "height": 34
        }
      },
      "source": [
        "print(a_b)"
      ],
      "execution_count": 0,
      "outputs": [
        {
          "output_type": "stream",
          "text": [
            "-6.3790522565901355\n"
          ],
          "name": "stdout"
        }
      ]
    },
    {
      "cell_type": "markdown",
      "metadata": {
        "id": "sLUuJU85o3K2",
        "colab_type": "text"
      },
      "source": [
        "$\\vec{a_b} = a_b \\hat{b} = a_b \\frac{\\vec{b}}{|\\vec{b}|}$"
      ]
    },
    {
      "cell_type": "code",
      "metadata": {
        "id": "-Qsuw6fUowFL",
        "colab_type": "code",
        "outputId": "65a57551-71ee-4e04-f62c-7fcb157d5c4e",
        "colab": {
          "base_uri": "https://localhost:8080/",
          "height": 34
        }
      },
      "source": [
        "vec_a_b = (a_b/np.linalg.norm(b))*b\n",
        "print(vec_a_b)"
      ],
      "execution_count": 0,
      "outputs": [
        {
          "output_type": "stream",
          "text": [
            "[5.30769231 3.53846154]\n"
          ],
          "name": "stdout"
        }
      ]
    },
    {
      "cell_type": "code",
      "metadata": {
        "id": "T0Y5v6OhpIpY",
        "colab_type": "code",
        "outputId": "a294720c-9d16-4a90-f8c3-5ac974a3b17e",
        "colab": {
          "base_uri": "https://localhost:8080/",
          "height": 269
        }
      },
      "source": [
        "plot_vectors([np.asarray([0,0,3,4]), np.asarray([0,0,4,-1]), np.asarray([0, 0, 1.88235294, -0.47058824])])"
      ],
      "execution_count": 0,
      "outputs": [
        {
          "output_type": "display_data",
          "data": {
            "image/png": "[encoded data removed]",
            "text/plain": [
              "<Figure size 432x288 with 1 Axes>"
            ]
          },
          "metadata": {
            "tags": []
          }
        }
      ]
    },
    {
      "cell_type": "markdown",
      "metadata": {
        "id": "TZU1yoPIqhNa",
        "colab_type": "text"
      },
      "source": [
        "# Linear combination"
      ]
    },
    {
      "cell_type": "markdown",
      "metadata": {
        "id": "gxBuKG4Pu6nW",
        "colab_type": "text"
      },
      "source": [
        "$\\vec{c} = w_1 \\vec{a} + w_2 \\vec{b}$"
      ]
    },
    {
      "cell_type": "code",
      "metadata": {
        "id": "sQJaRFWQu9jd",
        "colab_type": "code",
        "colab": {}
      },
      "source": [
        "def plot_lc(a, b, w1, w2):\n",
        "  \n",
        "  plt.quiver(0,0,a[0],a[1], scale_units='xy', angles='xy', scale=1, color='r')\n",
        "  plt.quiver(0,0,b[0],b[1], scale_units='xy', angles='xy', scale=1, color='b')\n",
        "  \n",
        "  c = w1 * a + w2 * b\n",
        "  \n",
        "  plt.quiver(0,0,c[0],c[1], scale_units='xy', angles='xy', scale=1, color='g')\n",
        "\n",
        "  plt.xlim(-10,10)\n",
        "  plt.ylim(-10,10)\n",
        "  plt.show()"
      ],
      "execution_count": 0,
      "outputs": []
    },
    {
      "cell_type": "code",
      "metadata": {
        "id": "3aDh22IavW7K",
        "colab_type": "code",
        "colab": {}
      },
      "source": [
        "a = np.asarray([3, 4])\n",
        "b = np.asarray([1.5, 2])"
      ],
      "execution_count": 0,
      "outputs": []
    },
    {
      "cell_type": "code",
      "metadata": {
        "id": "MVkGav4Dvb2s",
        "colab_type": "code",
        "outputId": "18c2ad9e-9730-4673-c6ce-fc97de38f816",
        "colab": {
          "base_uri": "https://localhost:8080/",
          "height": 269
        }
      },
      "source": [
        "plot_lc(a, b, -1, 1)"
      ],
      "execution_count": 0,
      "outputs": [
        {
          "output_type": "display_data",
          "data": {
            "image/png": "[encoded data removed]",
            "text/plain": [
              "<Figure size 432x288 with 1 Axes>"
            ]
          },
          "metadata": {
            "tags": []
          }
        }
      ]
    },
    {
      "cell_type": "code",
      "metadata": {
        "id": "DjOMG5mnvfyc",
        "colab_type": "code",
        "colab": {}
      },
      "source": [
        "def plot_span(a, b):\n",
        "  \n",
        "  for i in range(1000):\n",
        "    w1 = (np.random.random(1) - 0.5) * 3\n",
        "    w2 = (np.random.random(1) - 0.5) * 3\n",
        "    c = w1 * a + w2 * b\n",
        "    plt.quiver(0,0,c[0],c[1], scale_units='xy', angles='xy', scale=1, color='g')\n",
        "    \n",
        "  plt.quiver(0,0,a[0],a[1], scale_units='xy', angles='xy', scale=1, color='r')\n",
        "  plt.quiver(0,0,b[0],b[1], scale_units='xy', angles='xy', scale=1, color='b')\n",
        "\n",
        "  plt.xlim(-10,10)\n",
        "  plt.ylim(-10,10)\n",
        "  plt.show()"
      ],
      "execution_count": 0,
      "outputs": []
    },
    {
      "cell_type": "code",
      "metadata": {
        "id": "eipK3PzHwG5f",
        "colab_type": "code",
        "outputId": "ca7f5852-67de-46c4-c867-ff1ae2a33d82",
        "colab": {
          "base_uri": "https://localhost:8080/",
          "height": 269
        }
      },
      "source": [
        "plot_span(a, b)"
      ],
      "execution_count": 0,
      "outputs": [
        {
          "output_type": "display_data",
          "data": {
            "image/png": "[encoded data removed]",
            "text/plain": [
              "<Figure size 432x288 with 1 Axes>"
            ]
          },
          "metadata": {
            "tags": []
          }
        }
      ]
    },
    {
      "cell_type": "code",
      "metadata": {
        "id": "u_HwT2j-wHzd",
        "colab_type": "code",
        "colab": {}
      },
      "source": [
        ""
      ],
      "execution_count": 0,
      "outputs": []
    }
  ]
}